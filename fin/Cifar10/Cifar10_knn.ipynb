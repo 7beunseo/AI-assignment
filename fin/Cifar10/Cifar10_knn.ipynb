{
  "nbformat": 4,
  "nbformat_minor": 0,
  "metadata": {
    "colab": {
      "provenance": [],
      "authorship_tag": "ABX9TyMdQEGFiYLuIQ2adZIeqPMh",
      "include_colab_link": true
    },
    "kernelspec": {
      "name": "python3",
      "display_name": "Python 3"
    },
    "language_info": {
      "name": "python"
    }
  },
  "cells": [
    {
      "cell_type": "markdown",
      "metadata": {
        "id": "view-in-github",
        "colab_type": "text"
      },
      "source": [
        "<a href=\"https://colab.research.google.com/github/7beunseo/AI-assignment/blob/main/colab/cifar/knn/CIFAR10_KNN_v2.ipynb\" target=\"_parent\"><img src=\"https://colab.research.google.com/assets/colab-badge.svg\" alt=\"Open In Colab\"/></a>"
      ]
    },
    {
      "cell_type": "code",
      "execution_count": null,
      "metadata": {
        "colab": {
          "base_uri": "https://localhost:8080/",
          "height": 846
        },
        "id": "k9SqbIk8EL36",
        "outputId": "9cc4273b-3c09-467e-d090-338552fb66b2"
      },
      "outputs": [
        {
          "output_type": "stream",
          "name": "stdout",
          "text": [
            "X_train.shape: (50000, 32, 32, 3)\n",
            "y_train.shape: (50000, 1)\n",
            "X_test.shape: (10000, 32, 32, 3)\n",
            "y_test.shape: (10000, 1)\n",
            "train_labels.shape (one-hot) = (50000, 10)\n",
            "test_labels.shape (one-hot) = (10000, 10)\n"
          ]
        },
        {
          "output_type": "stream",
          "name": "stderr",
          "text": [
            "/usr/local/lib/python3.10/dist-packages/keras/src/layers/convolutional/base_conv.py:107: UserWarning: Do not pass an `input_shape`/`input_dim` argument to a layer. When using Sequential models, prefer using an `Input(shape)` object as the first layer in the model instead.\n",
            "  super().__init__(activity_regularizer=activity_regularizer, **kwargs)\n"
          ]
        },
        {
          "output_type": "stream",
          "name": "stdout",
          "text": [
            "\u001b[1m1563/1563\u001b[0m \u001b[32m━━━━━━━━━━━━━━━━━━━━\u001b[0m\u001b[37m\u001b[0m \u001b[1m1201s\u001b[0m 768ms/step\n",
            "\u001b[1m313/313\u001b[0m \u001b[32m━━━━━━━━━━━━━━━━━━━━\u001b[0m\u001b[37m\u001b[0m \u001b[1m243s\u001b[0m 776ms/step\n",
            "Train Features Shape: (50000, 512)\n",
            "Test Features Shape: (10000, 512)\n",
            "KNN Accuracy: 0.4132\n"
          ]
        },
        {
          "output_type": "display_data",
          "data": {
            "text/plain": [
              "<Figure size 480x480 with 2 Axes>"
            ],
            "image/png": "[encoded data removed]"
          },
          "metadata": {}
        },
        {
          "output_type": "stream",
          "name": "stdout",
          "text": [
            "[[541  67  62  14  28  15  41  25 157  50]\n",
            " [ 75 495  18  30  17  13  71  42  64 175]\n",
            " [127  30 276  59 197  53 141  56  42  19]\n",
            " [ 58  45 108 179  95 163 192  85  25  50]\n",
            " [ 55  21 164  38 360  30 215  72  29  16]\n",
            " [ 52  26 119 132  84 290 151  95  26  25]\n",
            " [ 16  19  90  39 134  35 597  41   9  20]\n",
            " [ 46  45  60  54  89  72 126 395  30  83]\n",
            " [167  97  28  17  28  15  21  25 527  75]\n",
            " [ 57 192   9  26  13  17  58  65  91 472]]\n"
          ]
        }
      ],
      "source": [
        "\n",
        "import tensorflow as tf\n",
        "from tensorflow import keras\n",
        "import matplotlib.pyplot as plt\n",
        "import numpy as np\n",
        "from tensorflow import keras\n",
        "from tensorflow.keras.preprocessing.image import ImageDataGenerator\n",
        "from sklearn.neighbors import KNeighborsClassifier\n",
        "from sklearn.metrics import accuracy_score\n",
        "from tensorflow.keras.models import Sequential\n",
        "from tensorflow.keras.layers import Conv2D, MaxPooling2D, GlobalAveragePooling2D, Dropout, BatchNormalization, Dense\n",
        "\n",
        "\n",
        "class_names = [\n",
        "    \"Airplane\", \"Automobile\", \"Bird\", \"Cat\", \"Deer\",\n",
        "    \"Dog\", \"Frog\", \"Horse\", \"Ship\", \"Truck\"\n",
        "]\n",
        "\n",
        "(X_train, y_train), (X_test, y_test) = tf.keras.datasets.cifar10.load_data()\n",
        "\n",
        "# 데이터 증강\n",
        "datagen = ImageDataGenerator(\n",
        "    rotation_range=20,\n",
        "    width_shift_range=0.2,\n",
        "    height_shift_range=0.2,\n",
        "    shear_range=0.2,\n",
        "    zoom_range=0.2,\n",
        "    horizontal_flip=True,\n",
        "    fill_mode='nearest'\n",
        ")\n",
        "\n",
        "datagen.fit(X_train)\n",
        "\n",
        "\n",
        "print(\"X_train.shape:\", X_train.shape)\n",
        "print(\"y_train.shape:\", y_train.shape)\n",
        "print(\"X_test.shape:\", X_test.shape)\n",
        "print(\"y_test.shape:\", y_test.shape)\n",
        "\n",
        "# plt.figure(figsize=(10, 2))\n",
        "# for i in range(5):\n",
        "#     plt.subplot(1, 5, i + 1)\n",
        "#     plt.imshow(X_train[i])\n",
        "#     plt.title(class_names[y_train[i][0]])  # CIFAR-10 클래스 이름 표시\n",
        "#     plt.axis('off')\n",
        "# plt.show()\n",
        "\n",
        "# 레이블을 one-hot encoding으로 변환\n",
        "train_labels = keras.utils.to_categorical(y_train, 10)\n",
        "test_labels = keras.utils.to_categorical(y_test, 10)\n",
        "\n",
        "print('train_labels.shape (one-hot) =', train_labels.shape)\n",
        "print('test_labels.shape (one-hot) =', test_labels.shape)\n",
        "\n",
        "train_images, test_images = X_train / 255, X_test / 255\n",
        "\n",
        "\n",
        "# CNN 모델 정의 (특성 추출기로만 사용함)\n",
        "# MLP 구조 그대로 유지함 (v1)\n",
        "cnn_model = Sequential([\n",
        "    Conv2D(128, (3, 3), padding='same', activation='relu', input_shape=(32, 32, 3)),\n",
        "    BatchNormalization(),\n",
        "    Conv2D(128, (3, 3), padding='same', activation='relu'),\n",
        "    BatchNormalization(),\n",
        "    MaxPooling2D((2, 2)),\n",
        "    Dropout(0.3),\n",
        "\n",
        "    Conv2D(256, (3, 3), padding='same', activation='relu'),\n",
        "    BatchNormalization(),\n",
        "    Conv2D(256, (3, 3), padding='same', activation='relu'),\n",
        "    BatchNormalization(),\n",
        "    MaxPooling2D((2, 2)),\n",
        "    Dropout(0.4),\n",
        "\n",
        "    Conv2D(512, (3, 3), padding='same', activation='relu'),\n",
        "    BatchNormalization(),\n",
        "    Conv2D(512, (3, 3), padding='same', activation='relu'),\n",
        "    BatchNormalization(),\n",
        "    MaxPooling2D((2, 2)),\n",
        "    Dropout(0.5),\n",
        "\n",
        "    GlobalAveragePooling2D(),\n",
        "    keras.layers.Flatten()\n",
        "])\n",
        "\n",
        "# CNN 특성 추출\n",
        "X_train_features = cnn_model.predict(train_images)\n",
        "X_test_features = cnn_model.predict(test_images)\n",
        "\n",
        "print(\"Train Features Shape:\", X_train_features.shape)\n",
        "print(\"Test Features Shape:\", X_test_features.shape)\n",
        "\n",
        "# KNN 모델 학습\n",
        "from sklearn.neighbors import KNeighborsClassifier\n",
        "from sklearn.metrics import accuracy_score\n",
        "\n",
        "knn = KNeighborsClassifier(n_neighbors=33)\n",
        "knn.fit(X_train_features, np.argmax(train_labels, axis=1))  # 원핫 방식을 정수형 라벨로 변환\n",
        "\n",
        "# KNN 예측 및 평가\n",
        "y_pred = knn.predict(X_test_features)\n",
        "knn_accuracy = accuracy_score(np.argmax(test_labels, axis=1), y_pred)\n",
        "print(\"KNN Accuracy:\", knn_accuracy)\n",
        "\n",
        "# 혼동 행렬 시각화\n",
        "from sklearn.metrics import confusion_matrix\n",
        "conf_mat = confusion_matrix(np.argmax(test_labels, axis=1), y_pred)\n",
        "plt.matshow(conf_mat)\n",
        "plt.colorbar()\n",
        "plt.xlabel('Predicted')\n",
        "plt.ylabel('Actual')\n",
        "plt.show()\n",
        "print(conf_mat)"
      ]
    },
    {
      "cell_type": "markdown",
      "source": [
        "cnn에서\n",
        "\n",
        "```python\n",
        "keras.layers.Flatten()\n",
        "```\n",
        "\n",
        "위 코드를 추가하지 않으면\n",
        "\n",
        "\n",
        "```\n",
        "---------------------------------------------------------------------------\n",
        "ValueError                                Traceback (most recent call last)\n",
        "<ipython-input-5-c87b139da04b> in <cell line: 83>()\n",
        "     81\n",
        "     82 knn = KNeighborsClassifier(n_neighbors=5)\n",
        "---> 83 knn.fit(X_train_features, np.argmax(train_labels, axis=1))  # One-hot -> integer labels\n",
        "     84\n",
        "     85 # KNN 예측 및 평가\n",
        "\n",
        "5 frames\n",
        "/usr/local/lib/python3.10/dist-packages/sklearn/utils/validation.py in check_array(array, accept_sparse, accept_large_sparse, dtype, order, copy, force_writeable, force_all_finite, ensure_2d, allow_nd, ensure_min_samples, ensure_min_features, estimator, input_name)\n",
        "   1056             )\n",
        "   1057         if not allow_nd and array.ndim >= 3:\n",
        "-> 1058             raise ValueError(\n",
        "   1059                 \"Found array with dim %d. %s expected <= 2.\"\n",
        "   1060                 % (array.ndim, estimator_name)\n",
        "\n",
        "ValueError: Found array with dim 4. KNeighborsClassifier expected <= 2.\n",
        "```\n",
        "\n",
        "array가 4차원이고, KNeighborsClassifier는 2차원 이하의 데이터만 처리할 수 있어 에러가 발생한다. 따라서 이를 모두 1열로 펼치는 Flatten()을 이용했다.\n",
        "\n",
        "```\n",
        "X_train_features = cnn_model.predict(train_images)\n",
        "X_test_features = cnn_model.predict(test_images)\n",
        "```\n",
        "이미지 데이터에서 특성 백터만을 추출한다. 이는 KNN의 입력 데이터로 들어간다. (MLP 연결 x)\n",
        "\n",
        "```\n",
        "knn = KNeighborsClassifier(n_neighbors=5)\n",
        "knn.fit(X_train_features, np.argmax(train_labels, axis=1))\n",
        "```\n",
        "이때, fit을 할 때 데이터와 레이블의 개수가 모두 동일해야 한다.\n",
        "train_labels는 원핫 인코딩되어있기 때문에 2의 경우 [0, 0, 1, 0, 0, 0, 0, 0, 0, 0] 형태의 데이터가 들어가있다.\n",
        "np.argmax는 axis=1 배열을 1d로 간주했을 때 최대값의 위치를 반환한다. 따라서 [0, 0, 1, 0, 0, 0, 0, 0, 0, 0]는 label 2로 간주되며, 이었다면 [1, 0, 0, 0, 0, 0, 0, 0, 0, 0] 이 모양이 되므로 label 0으로 간주된다.\n",
        "따라서 클래스를 분류하는 정수 레이블로 대체할 수 있다. (맞나?)\n",
        "\n",
        "이후 이 데이터를 가지고 fit 메서드를 사용하여 knn에 입력한다.\n",
        "\n",
        "\n"
      ],
      "metadata": {
        "id": "Pq4uWbIRFEIt"
      }
    }
  ]
}
